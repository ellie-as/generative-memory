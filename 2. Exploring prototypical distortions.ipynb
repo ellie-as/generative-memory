{
 "cells": [
  {
   "cell_type": "markdown",
   "id": "7660e1bc",
   "metadata": {},
   "source": [
    "### Exploring prototypical distortions\n",
    "\n",
    "This notebook contains code to demonstrate that generative networks such as VAEs make their outputs more prototypical.\n",
    "\n",
    "Tested with tensorflow 2.11.0 and Python 3.10.9."
   ]
  },
  {
   "cell_type": "markdown",
   "id": "3cdea851",
   "metadata": {},
   "source": [
    "#### Installation"
   ]
  },
  {
   "cell_type": "code",
   "execution_count": null,
   "id": "35353ac0",
   "metadata": {},
   "outputs": [],
   "source": [
    "!pip install -r requirements.txt\n",
    "!pip install umap-learn"
   ]
  },
  {
   "cell_type": "markdown",
   "id": "8ec94c58",
   "metadata": {},
   "source": [
    "#### Imports"
   ]
  },
  {
   "cell_type": "code",
   "execution_count": 1,
   "id": "0cd26f10",
   "metadata": {},
   "outputs": [
    {
     "name": "stderr",
     "output_type": "stream",
     "text": [
      "/Users/eleanorspens/Documents/PhD Code/algonauts/algovenv/lib/python3.10/site-packages/umap/distances.py:1063: NumbaDeprecationWarning: The 'nopython' keyword argument was not supplied to the 'numba.jit' decorator. The implicit default value for this argument is currently False, but it will be changed to True in Numba 0.59.0. See https://numba.readthedocs.io/en/stable/reference/deprecation.html#deprecation-of-object-mode-fall-back-behaviour-when-using-jit for details.\n",
      "  @numba.jit()\n",
      "/Users/eleanorspens/Documents/PhD Code/algonauts/algovenv/lib/python3.10/site-packages/umap/distances.py:1071: NumbaDeprecationWarning: The 'nopython' keyword argument was not supplied to the 'numba.jit' decorator. The implicit default value for this argument is currently False, but it will be changed to True in Numba 0.59.0. See https://numba.readthedocs.io/en/stable/reference/deprecation.html#deprecation-of-object-mode-fall-back-behaviour-when-using-jit for details.\n",
      "  @numba.jit()\n",
      "/Users/eleanorspens/Documents/PhD Code/algonauts/algovenv/lib/python3.10/site-packages/umap/distances.py:1086: NumbaDeprecationWarning: The 'nopython' keyword argument was not supplied to the 'numba.jit' decorator. The implicit default value for this argument is currently False, but it will be changed to True in Numba 0.59.0. See https://numba.readthedocs.io/en/stable/reference/deprecation.html#deprecation-of-object-mode-fall-back-behaviour-when-using-jit for details.\n",
      "  @numba.jit()\n",
      "/Users/eleanorspens/Documents/PhD Code/algonauts/algovenv/lib/python3.10/site-packages/umap/umap_.py:660: NumbaDeprecationWarning: The 'nopython' keyword argument was not supplied to the 'numba.jit' decorator. The implicit default value for this argument is currently False, but it will be changed to True in Numba 0.59.0. See https://numba.readthedocs.io/en/stable/reference/deprecation.html#deprecation-of-object-mode-fall-back-behaviour-when-using-jit for details.\n",
      "  @numba.jit()\n"
     ]
    }
   ],
   "source": [
    "import tensorflow as tf\n",
    "import tensorflow_datasets as tfds\n",
    "from distortions_utils import *\n",
    "from tensorflow import keras\n",
    "import numpy as np\n",
    "from random import randrange\n",
    "from PIL import Image\n",
    "import matplotlib.pyplot as plt\n",
    "import matplotlib.backends.backend_pdf\n",
    "from config import dims_dict\n",
    "from generative_model import models_dict\n",
    "import matplotlib\n",
    "from sklearn.decomposition import PCA\n",
    "from sklearn.manifold import TSNE\n",
    "from umap import UMAP\n",
    "from tensorflow.keras import layers\n",
    "import tensorflow.keras.backend as K\n",
    "from utils import display\n",
    "from sklearn.decomposition import PCA\n",
    "import matplotlib.pyplot as plt\n",
    "import numpy as np\n",
    "\n",
    "import warnings\n",
    "warnings.filterwarnings(\"ignore\")\n",
    "\n",
    "# set tensorflow random seed to make outputs reproducible\n",
    "tf.random.set_seed(123)\n",
    "np.random.seed(123)"
   ]
  },
  {
   "cell_type": "markdown",
   "id": "9bf6fb79",
   "metadata": {},
   "source": [
    "#### Measuring intra-class variation"
   ]
  },
  {
   "cell_type": "markdown",
   "id": "9badb650",
   "metadata": {},
   "source": [
    "Load MNIST VAE trained previously and some test data:"
   ]
  },
  {
   "cell_type": "code",
   "execution_count": 2,
   "id": "0cd2f65e",
   "metadata": {},
   "outputs": [
    {
     "name": "stderr",
     "output_type": "stream",
     "text": [
      "2023-08-15 08:19:50.314342: I tensorflow/core/common_runtime/pluggable_device/pluggable_device_factory.cc:306] Could not identify NUMA node of platform GPU ID 0, defaulting to 0. Your kernel may not have been built with NUMA support.\n",
      "2023-08-15 08:19:50.314758: I tensorflow/core/common_runtime/pluggable_device/pluggable_device_factory.cc:272] Created TensorFlow device (/job:localhost/replica:0/task:0/device:GPU:0 with 0 MB memory) -> physical PluggableDevice (device: 0, name: METAL, pci bus id: <undefined>)\n"
     ]
    },
    {
     "name": "stdout",
     "output_type": "stream",
     "text": [
      "Metal device set to: Apple M2 Pro\n"
     ]
    }
   ],
   "source": [
    "(x_train, y_train), (x_test, y_test) = keras.datasets.mnist.load_data()\n",
    "mnist_digits = np.concatenate([x_test], axis=0)\n",
    "mnist_labels = np.concatenate([y_test], axis=0)\n",
    "mnist_digits = np.expand_dims(mnist_digits, -1).astype(\"float32\") / 255\n",
    "\n",
    "encoder, decoder = build_encoder_decoder_small(latent_dim=20)\n",
    "encoder.load_weights(\"model_weights/mnist_encoder.h5\")\n",
    "decoder.load_weights(\"model_weights/mnist_decoder.h5\")\n",
    "vae = VAE(encoder, decoder, kl_weighting=1)"
   ]
  },
  {
   "cell_type": "markdown",
   "id": "9f3ca454",
   "metadata": {},
   "source": [
    "Get latents and outputs before and after recall and optionally plot latent spaces:"
   ]
  },
  {
   "cell_type": "code",
   "execution_count": 33,
   "id": "8758c4cc",
   "metadata": {},
   "outputs": [
    {
     "name": "stdout",
     "output_type": "stream",
     "text": [
      "313/313 [==============================] - 0s 1ms/step\n",
      "313/313 [==============================] - 0s 1ms/step\n",
      "313/313 [==============================] - 1s 2ms/step\n",
      "313/313 [==============================] - 0s 1ms/step\n",
      "313/313 [==============================] - 1s 2ms/step\n"
     ]
    }
   ],
   "source": [
    "test_data = mnist_digits\n",
    "all_pixels = []\n",
    "all_latents = []\n",
    "\n",
    "latents = vae.encoder.predict(test_data)\n",
    "latent_umap = UMAP(n_components=2, min_dist=1, n_neighbors=20)\n",
    "latent_umap.fit(latents[0])\n",
    "pixel_umap = UMAP(n_components=2, min_dist=1, n_neighbors=20)\n",
    "pixel_umap.fit(test_data.reshape(test_data.shape[0], 784))\n",
    "\n",
    "for i in range(2):    \n",
    "    all_pixels.append(test_data)\n",
    "    test_data, latents = check_generative_recall(vae, test_data, mnist_labels, latent_umap, pixel_umap, \n",
    "                                                 displaybool=False, n=3000)\n",
    "    all_latents.append(latents)"
   ]
  },
  {
   "cell_type": "markdown",
   "id": "27b6d9e9",
   "metadata": {},
   "source": [
    "Calculate the total variance across each MNIST class before and after recall:"
   ]
  },
  {
   "cell_type": "code",
   "execution_count": 4,
   "id": "bc99c01d",
   "metadata": {},
   "outputs": [],
   "source": [
    "variances = {}\n",
    "\n",
    "for time_step in range(0,2):\n",
    "    variances[time_step] = []\n",
    "    for i in range(0,10):\n",
    "        px = all_pixels[time_step][0:5000]\n",
    "        inds = np.where((mnist_labels[0:5000]==i))\n",
    "        px_for_digit = px[inds]\n",
    "\n",
    "        # Reshape the images into 1D vectors (n, 784)\n",
    "        reshaped_images = px_for_digit.reshape((px_for_digit.shape[0], -1))\n",
    "        # Calculate variance per pixel of images, giving array of shape (784,), then average\n",
    "        mean_variance = np.mean(np.var(reshaped_images, axis=0))\n",
    "        variances[time_step].append(mean_variance)"
   ]
  },
  {
   "cell_type": "markdown",
   "id": "3f94b4b6",
   "metadata": {},
   "source": [
    "Plot intra-class variation before and after recall for each MNIST class:"
   ]
  },
  {
   "cell_type": "code",
   "execution_count": 5,
   "id": "d184104d",
   "metadata": {},
   "outputs": [
    {
     "data": {
      "image/png": "[encoded data removed]",
      "text/plain": [
       "<Figure size 700x400 with 1 Axes>"
      ]
     },
     "metadata": {},
     "output_type": "display_data"
    }
   ],
   "source": [
    "matplotlib.rcParams.update({'font.size': 12})\n",
    "\n",
    "labels = range(10)\n",
    "before_means = variances[0]\n",
    "after_means = variances[1]\n",
    "\n",
    "x = np.arange(len(labels))\n",
    "width = 0.4 \n",
    "\n",
    "fig, ax = plt.subplots(figsize=(7,4))\n",
    "rects1 = ax.bar(x - width/2, before_means, width, label='Inputs', color='red', alpha=0.5)\n",
    "rects2 = ax.bar(x + width/2, after_means, width, label='Outputs', color='blue', alpha=0.5)\n",
    "\n",
    "ax.set_ylabel('Mean variance per pixel')\n",
    "ax.set_title('Intra-class image variation')\n",
    "plt.xticks(x)\n",
    "plt.ylim(0, 0.073)\n",
    "ax.legend()\n",
    "\n",
    "fig.tight_layout()\n",
    "plt.show()"
   ]
  },
  {
   "cell_type": "code",
   "execution_count": null,
   "id": "f7c282c9-f33c-4127-a54d-1a38295bf0fb",
   "metadata": {},
   "outputs": [],
   "source": []
  }
 ],
 "metadata": {
  "kernelspec": {
   "display_name": "Python 3 (ipykernel)",
   "language": "python",
   "name": "python3"
  },
  "language_info": {
   "codemirror_mode": {
    "name": "ipython",
    "version": 3
   },
   "file_extension": ".py",
   "mimetype": "text/x-python",
   "name": "python",
   "nbconvert_exporter": "python",
   "pygments_lexer": "ipython3",
   "version": "3.10.9"
  }
 },
 "nbformat": 4,
 "nbformat_minor": 5
}
